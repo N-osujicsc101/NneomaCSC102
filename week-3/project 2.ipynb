{
 "cells": [
  {
   "cell_type": "code",
   "execution_count": 13,
   "id": "a5f85352",
   "metadata": {},
   "outputs": [
    {
     "ename": "SyntaxError",
     "evalue": "unterminated string literal (detected at line 31) (583113800.py, line 31)",
     "output_type": "error",
     "traceback": [
      "\u001b[1;36m  Cell \u001b[1;32mIn[13], line 31\u001b[1;36m\u001b[0m\n\u001b[1;33m    print(f\"The roots of this qyadratic equation are {x}, and {y}, thank you)\u001b[0m\n\u001b[1;37m          ^\u001b[0m\n\u001b[1;31mSyntaxError\u001b[0m\u001b[1;31m:\u001b[0m unterminated string literal (detected at line 31)\n"
     ]
    }
   ],
   "source": [
    "#python programme to calculate quadratic root\n",
    "print(\"Welcome to the python Quadratic equation calculator. proceed by inputing the corresponding values, a, b,c,d\")\n",
    "a = input(\"Input the value for a: \\n\")\n",
    "a = int(a)\n",
    "b = input(\"Input the value for b: \\n\")\n",
    "b = int(b)\n",
    "c = input(\"Input the value for c: \\n\")\n",
    "c = int(c)\n",
    "d = -1.00 * b\n",
    "e = b * b - (4.00 * a * c)\n",
    "f = sqrt(e)\n",
    "g = 2.00 * a\n",
    "x = (d + f) / g\n",
    "\n",
    "\n",
    "h = -1.00 * b;\n",
    "i = b * b - (4.00 * a * c)\n",
    "j = sqrt(1)\n",
    "k = 2.00 * a\n",
    "y = (h-j)/k\n",
    "\n",
    "if (b * b) - (4.00 * a * c) < 0.00:\n",
    " \n",
    "    print(\"There is no real roots\", x)\n",
    "    \n",
    "    elif (b * b) - (4.00 * a * c) == 0.00:\n",
    "       \n",
    "     print(\"The roots of this equation have the same value of {}\", x)\n",
    "     \n",
    "    else :\n",
    "            print(f\"The roots of this qyadratic equation are {x}, and {y}, thank you)\n",
    "\n"
   ]
  },
  {
   "cell_type": "code",
   "execution_count": 10,
   "id": "075f15c5",
   "metadata": {},
   "outputs": [
    {
     "ename": "IndentationError",
     "evalue": "unindent does not match any outer indentation level (<tokenize>, line 17)",
     "output_type": "error",
     "traceback": [
      "\u001b[1;36m  File \u001b[1;32m<tokenize>:17\u001b[1;36m\u001b[0m\n\u001b[1;33m    else:\u001b[0m\n\u001b[1;37m    ^\u001b[0m\n\u001b[1;31mIndentationError\u001b[0m\u001b[1;31m:\u001b[0m unindent does not match any outer indentation level\n"
     ]
    }
   ],
   "source": [
    "#python programme to calcuate cubic root\n",
    "import math\n",
    "\n",
    "#user inputs\n",
    "a = float((\"Enter the coefficient a: \"))\n",
    "b = float((\"Enter the coefficient b: \"))\n",
    "c = float((\"Enter the coefficient c: \"))\n",
    "d = float((\"Enter the coefficient d: \"))\n",
    "\n",
    "#calculate determinant\n",
    " deteminant = b**2 - 3 * a * c\n",
    "    \n",
    " #to check for complex root\n",
    "if determinant < 0:\n",
    "    print(\"there are no complex roots\")\n",
    "    \n",
    " else:\n",
    "    n = -b / (3 * a)\n",
    "    m = (b**3 - 3 *a*b*c + 2*a**2*d) /(27*a**3)\n",
    "    \n",
    "#calculate cubic root\n",
    "cubic_root = (m + math.sqrt(m**2 + (determinant/3)**3))**(1/3) + (m - math.sqrt(m**2 + (determinant/3)**3))**(1/3)\n",
    "\n",
    "#calculate real cubic root\n",
    "real_root = cubic_root - b/(3*a)\n",
    "\n",
    "print(\"the real root of the given equation is: \", real_root)"
   ]
  },
  {
   "cell_type": "code",
   "execution_count": null,
   "id": "dba77ba3",
   "metadata": {},
   "outputs": [],
   "source": []
  }
 ],
 "metadata": {
  "kernelspec": {
   "display_name": "Python 3 (ipykernel)",
   "language": "python",
   "name": "python3"
  },
  "language_info": {
   "codemirror_mode": {
    "name": "ipython",
    "version": 3
   },
   "file_extension": ".py",
   "mimetype": "text/x-python",
   "name": "python",
   "nbconvert_exporter": "python",
   "pygments_lexer": "ipython3",
   "version": "3.10.9"
  }
 },
 "nbformat": 4,
 "nbformat_minor": 5
}
