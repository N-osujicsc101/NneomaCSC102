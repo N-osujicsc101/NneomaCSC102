{
 "cells": [
  {
   "cell_type": "code",
   "execution_count": null,
   "id": "67bf6af2",
   "metadata": {},
   "outputs": [],
   "source": [
    "import pandas as pd\n",
    "\n",
    "def check_employee(name, department):\n",
    "    employee_data = pd.read_csv('jt-ventures.csv')\n",
    "    \n",
    "    matching_employees = employee_data[(employee_data['Name'] == name) and (employee_data['Department'] == department)]\n",
    "\n",
    "    if len(matching_employees) == 0:\n",
    "        print(\"Sorry, we could not find an employee with that name and department.\")\n",
    "    else:\n",
    "        print(\"Welcome, \"+ name +\"! heres your company profile:\")\n",
    "        print(\"----------------------------------------------------\")\n",
    "        print(\"Company Name: JT Ventures\")\n",
    "        \n",
    "\n",
    "        \n",
    "\n",
    "        \n",
    "p = float(input(\"Enter name: \"))\n",
    "r = float(input(\"Enter department: \"))\n",
    "        \n",
    "        \n",
    "        "
   ]
  },
  {
   "cell_type": "code",
   "execution_count": null,
   "id": "8499f9a1",
   "metadata": {},
   "outputs": [],
   "source": []
  }
 ],
 "metadata": {
  "kernelspec": {
   "display_name": "Python 3 (ipykernel)",
   "language": "python",
   "name": "python3"
  },
  "language_info": {
   "codemirror_mode": {
    "name": "ipython",
    "version": 3
   },
   "file_extension": ".py",
   "mimetype": "text/x-python",
   "name": "python",
   "nbconvert_exporter": "python",
   "pygments_lexer": "ipython3",
   "version": "3.10.9"
  }
 },
 "nbformat": 4,
 "nbformat_minor": 5
}
