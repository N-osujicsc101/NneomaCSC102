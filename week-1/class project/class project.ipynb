{
 "cells": [
  {
   "cell_type": "code",
   "execution_count": 3,
   "id": "c5f43bc3",
   "metadata": {},
   "outputs": [
    {
     "name": "stdout",
     "output_type": "stream",
     "text": [
      "Enter the principal amount: 6000\n",
      "Enter the rate: 7\n",
      "Enter the time: 6\n",
      "The simple interest is 2520.0\n"
     ]
    }
   ],
   "source": [
    "# python program to calculate simple interest\n",
    "p = float(input(\"Enter the principal amount: \"))\n",
    "r = float(input(\"Enter the rate: \"))\n",
    "t = float(input(\"Enter the time: \"))\n",
    "\n",
    "simple_interest = (p * r * t)/ 100\n",
    "\n",
    "print(\"The simple interest is\", simple_interest)\n",
    "\n",
    "\n"
   ]
  },
  {
   "cell_type": "code",
   "execution_count": null,
   "id": "46aacb0a",
   "metadata": {},
   "outputs": [],
   "source": [
    "# python programme to calculate compund interest\n",
    "p = float(input(\"Enter your principal amount: \"))\n",
    "r = float(input(\"Enter the rate: \"))\n",
    "t = float(input(\"Enter the time or duration: \"))\n",
    "n = float(input(\"Enter the number of times it has been compunded\"))\n",
    "\n",
    "# 'a' here means amount\n",
    "a = p * ((1 + (r/n)) ** (n * t))\n",
    "compound_interest = a - p\n",
    "\n",
    "print(\"the compound interest is:\", compound_interest)\n"
   ]
  },
  {
   "cell_type": "code",
   "execution_count": null,
   "id": "42d5b70b",
   "metadata": {},
   "outputs": [],
   "source": [
    "# python programme to calculate Annuity plan\n",
    "pmt = float(input(\"Enter the principal: \"))\n",
    "r = float(input(\"Enter the rate: \"))\n",
    "t = float(input(\"Enter the time: \"))\n",
    "n = float(input(\"Enter the number of times it has been compounded: \"))\n",
    "\n",
    "\n",
    "a = pmt * ((1 + r/n) ** nt - 1)/(r/n)\n",
    "annuity_plan = p * a\n",
    "\n",
    "print(\"the annuity plan is: \", annuity_plan)\n"
   ]
  },
  {
   "cell_type": "code",
   "execution_count": null,
   "id": "740d3f65",
   "metadata": {},
   "outputs": [],
   "source": []
  }
 ],
 "metadata": {
  "kernelspec": {
   "display_name": "Python 3 (ipykernel)",
   "language": "python",
   "name": "python3"
  },
  "language_info": {
   "codemirror_mode": {
    "name": "ipython",
    "version": 3
   },
   "file_extension": ".py",
   "mimetype": "text/x-python",
   "name": "python",
   "nbconvert_exporter": "python",
   "pygments_lexer": "ipython3",
   "version": "3.10.9"
  }
 },
 "nbformat": 4,
 "nbformat_minor": 5
}
