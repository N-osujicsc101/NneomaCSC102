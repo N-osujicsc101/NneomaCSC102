{
 "cells": [
  {
   "cell_type": "code",
   "execution_count": 32,
   "id": "059e7e60",
   "metadata": {},
   "outputs": [
    {
     "name": "stdout",
     "output_type": "stream",
     "text": [
      "Enter 1 for Area of trapezium, 2 for Area of rhombus, 3 for Area of parallelogram, 4 for Area of cube, 5 for volume of cube: 5\n",
      "Enter your radius: 5\n",
      "Enter your height: 8\n",
      "The Volume of Cube is  628.4\n"
     ]
    }
   ],
   "source": [
    "class calculator():\n",
    "    def aot(self):\n",
    "        height = int(input(\"Enter your height: \"))\n",
    "        base1 = int(input(\"Enter your base1: \"))\n",
    "        base2 = int(input(\"Enter your base2: \"))\n",
    "        aot = height / 2 * (base1 + base2)\n",
    "        print(\"The Area of Trapezium is \", aot)\n",
    "\n",
    "    def aor(self):\n",
    "        diagonal1 = int(input(\"Enter your diagonal1: \"))\n",
    "        diagonal2 = int(input(\"Enter your diagonal2: \"))\n",
    "        aor = 0.5 * diagonal1 * diagonal2\n",
    "        print(\"The Area of Rhombus is \", aor)\n",
    "\n",
    "    def aop(self):\n",
    "        base = int(input(\"Enter your base: \"))\n",
    "        altitude = int(input(\"Enter your altitude: \"))\n",
    "        aop = base * altitude\n",
    "        print(\"The Area of Parallelogram is \", aop)\n",
    "\n",
    "    def aoc(self):\n",
    "        length = int(input(\"Enter your length: \"))\n",
    "        aoc = 6 * length ** 2\n",
    "        print(\"The Area of Cube is \", aoc)\n",
    "\n",
    "    def voc(self):\n",
    "        radius = int(input(\"Enter your radius: \"))\n",
    "        height = int(input(\"Enter your height: \"))\n",
    "        voc = 3.142 * radius ** 2 * height\n",
    "        print(\"The Volume of Cube is \", voc)\n",
    "\n",
    "\n",
    "cal = calculator()\n",
    "value = int(input(\"Enter 1 for Area of trapezium, 2 for Area of rhombus, 3 for Area of parallelogram, 4 for Area of cube, 5 for volume of cube: \"))\n",
    "\n",
    "if value == 1:\n",
    "    cal.aot()\n",
    "    \n",
    "elif value == 2:\n",
    "    cal.aor()\n",
    "\n",
    "elif value == 3:\n",
    "    cal.aop()\n",
    "\n",
    "elif value == 4:\n",
    "  cal.aoc()\n",
    "\n",
    "elif value == 5:\n",
    " cal.voc()\n",
    "\n",
    "else:\n",
    "    print(\"Invalid input\")\n",
    "\n",
    "    \n",
    "    \n",
    "    \n",
    "    "
   ]
  },
  {
   "cell_type": "code",
   "execution_count": 14,
   "id": "53793d11",
   "metadata": {
    "scrolled": true
   },
   "outputs": [
    {
     "name": "stdout",
     "output_type": "stream",
     "text": [
      "Enter the quantity of oranges: 200\n",
      "Enter the amount of oranges needed: 200\n",
      "The cost of one orange is $50\n",
      "The total cost is 10000\n"
     ]
    }
   ],
   "source": [
    "class orange():\n",
    "     def cost(self):\n",
    "       quantity = int(input(\"Enter the amount of oranges needed: \"))\n",
    "       print(\"The cost of one orange is $50\")\n",
    "       cost = 50 * quantity\n",
    "       print(\"The total cost is\", cost)\n",
    "\n",
    "        \n",
    "cal = orange()\n",
    "\n",
    "quantity = int(input(\"Enter the quantity of oranges: \"))\n",
    "\n",
    "if quantity <= 300:\n",
    "    cal.cost()\n",
    "    \n",
    "elif quantity == 301:\n",
    "    print(\"Please pick a value less than the quantity picked\")\n",
    "    cal.cost()\n",
    "\n",
    "else:\n",
    "    print(\"Invalid input\")"
   ]
  },
  {
   "cell_type": "code",
   "execution_count": 22,
   "id": "dcb9abdf",
   "metadata": {},
   "outputs": [],
   "source": [
    "import pandas as pd\n",
    "\n",
    "class Beverage_bazaar():\n",
    "    def drink_delights(self):\n",
    "        drinks = {'Cocktails':['Blissful breeze', 'Serenity sip', 'Mystic martini', 'Sunset paradise','Velvet crush', 'Citrus zing'],\n",
    "                 'Smoothies':['Banana smoothie', 'Strawberry smoothie', 'Oreo smoothie','', '', ''],\n",
    "                 'Fizzy-drinks':['Lacasara', 'Fanta', 'Pepsi', '', '', '']}\n",
    "        df = pd.DataFrame(drinks)\n",
    "        df.to_csv('drink_delights.csv')\n",
    "        \n",
    "        \n",
    "        \n",
    "        \n",
    "cal = Beverage_bazaar()\n",
    "cal.drink_delights()"
   ]
  },
  {
   "cell_type": "code",
   "execution_count": null,
   "id": "d3000b7d",
   "metadata": {},
   "outputs": [],
   "source": []
  }
 ],
 "metadata": {
  "kernelspec": {
   "display_name": "Python 3 (ipykernel)",
   "language": "python",
   "name": "python3"
  },
  "language_info": {
   "codemirror_mode": {
    "name": "ipython",
    "version": 3
   },
   "file_extension": ".py",
   "mimetype": "text/x-python",
   "name": "python",
   "nbconvert_exporter": "python",
   "pygments_lexer": "ipython3",
   "version": "3.10.9"
  }
 },
 "nbformat": 4,
 "nbformat_minor": 5
}
