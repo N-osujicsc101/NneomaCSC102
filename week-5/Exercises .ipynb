{
 "cells": [
  {
   "cell_type": "code",
   "execution_count": 1,
   "id": "da1c2981",
   "metadata": {},
   "outputs": [
    {
     "name": "stdout",
     "output_type": "stream",
     "text": [
      "Enter name of city 1: Owerri\n",
      "Enter name of city 2: Lagos\n",
      "The name of City 1 after swapping is Lagos\n",
      "The name of City 2 after swapping is Owerri\n"
     ]
    }
   ],
   "source": [
    "#python programme to swap two cities\n",
    "\n",
    "# To take inputs from the user\n",
    "city_1 = input('Enter name of city 1: ')\n",
    "city_2 = input('Enter name of city 2: ')\n",
    "\n",
    "# create a temporary variable and swap the cities\n",
    "temp = city_1\n",
    "city_1 = city_2\n",
    "city_2 = temp\n",
    "\n",
    "\n",
    "print(f\"The name of City 1 after swapping is {city_1}\")\n",
    "print(f\"The name of City 2 after swapping is {city_2}\")\n",
    "\n",
    "\n",
    "\n"
   ]
  },
  {
   "cell_type": "code",
   "execution_count": 3,
   "id": "af7c6519",
   "metadata": {},
   "outputs": [
    {
     "name": "stdout",
     "output_type": "stream",
     "text": [
      "Enter a number: -6\n",
      "Negative number\n"
     ]
    }
   ],
   "source": [
    "# Python program to check if a number is positive, Negative or 0\n",
    "\n",
    "num = float(input(\"Enter a number: \"))\n",
    "if num > 0:\n",
    "    print(\"Positive number\")\n",
    "elif num == 0:\n",
    "    print(\"Zero\")\n",
    "else:\n",
    "    print(\"Negative number\")"
   ]
  },
  {
   "cell_type": "code",
   "execution_count": 7,
   "id": "f102253b",
   "metadata": {},
   "outputs": [
    {
     "name": "stdout",
     "output_type": "stream",
     "text": [
      "Welcome to the COUPE DE ESCRIVA 2023: FOOTBALL PICKS \n",
      "\n",
      "Madiba:  Chubby obiora-Okafo\n",
      "Blue jays:  Christopher Umeh\n",
      "Cirok:  Alexander\n",
      "TSG Walkers:  Ikechukwu\n",
      "\n",
      "\n",
      "Madiba:  Chubby obiora-Okafo\n",
      "Blue jays:  Oladimeji Abaniwonda/Jeffery Awagu\n",
      "Cirok:  Timileyin Pearse/Izuako Jeremy\n",
      "TSG Walkers:  Ayomide Ojituku\n"
     ]
    }
   ],
   "source": [
    "# COUPE DE ESCRIVA 2023: FOOTBALL PICKS\n",
    "\n",
    "print(\"Welcome to the COUPE DE ESCRIVA 2023: FOOTBALL PICKS \\n\")\n",
    "\n",
    "captain = {'Madiba: ': 'Chubby obiora-Okafo', 'Blue jays: ': 'Christopher Umeh',\n",
    "            'Cirok: ': 'Alexander', 'TSG Walkers: ': 'Ikechukwu'}\n",
    "\n",
    "goalkeepers = {'Madiba: ': 'Chubby obiora-Okafo', \n",
    "               'Blue jays: ': 'Oladimeji Abaniwonda/Jeffery Awagu',\n",
    "               'Cirok: ': 'Timileyin Pearse/Izuako Jeremy', \n",
    "               'TSG Walkers: ': 'Ayomide Ojituku'}\n",
    "\n",
    "for pick in captain:\n",
    "    print(pick, captain[pick])\n",
    "    \n",
    "print(\"\\n\")\n",
    "\n",
    "for pick in goalkeepers:\n",
    "    print(pick, goalkeepers[pick])  \n"
   ]
  },
  {
   "cell_type": "code",
   "execution_count": null,
   "id": "7e09ca0d",
   "metadata": {},
   "outputs": [],
   "source": []
  }
 ],
 "metadata": {
  "kernelspec": {
   "display_name": "Python 3 (ipykernel)",
   "language": "python",
   "name": "python3"
  },
  "language_info": {
   "codemirror_mode": {
    "name": "ipython",
    "version": 3
   },
   "file_extension": ".py",
   "mimetype": "text/x-python",
   "name": "python",
   "nbconvert_exporter": "python",
   "pygments_lexer": "ipython3",
   "version": "3.10.9"
  }
 },
 "nbformat": 4,
 "nbformat_minor": 5
}
