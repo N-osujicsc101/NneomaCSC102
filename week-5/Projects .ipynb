{
 "cells": [
  {
   "cell_type": "code",
   "execution_count": 5,
   "id": "d50c2e51",
   "metadata": {},
   "outputs": [
    {
     "name": "stdout",
     "output_type": "stream",
     "text": [
      "Smart students international personal details\n",
      "The girls details: \n",
      "Samantha  | 17 | 5.5 | 80\n",
      "Jada      | 16 | 6.0 | 83\n",
      "Jane      | 17 | 5.4 | 70\n",
      "Claire    | 18 | 5.9 | 60\n",
      "Elizabeth | 16 | 5.6 | 76\n",
      "Mary      | 18 | 5.5 | 66\n",
      "Susan     | 17 | 6.1 | 87\n",
      "Waje      | 19 | 6.2 | 95\n",
      "Taibat    | 20 | 5.7 | 50\n",
      "lilian    | 17 | 5.5 | 49\n",
      "The Boys details: \n",
      "Charles  | 19 | 5.7 | 74\n",
      "Jude     | 16 | 5.9 | 87\n",
      "James    | 17 | 5.8 | 70\n",
      "Kelvin   | 18 | 5.9 | 68\n",
      "Biodun   | 20 | 6.1 | 76\n",
      "Wale     | 18 | 5.5 | 66\n",
      "Kunle    | 19 | 6.1 | 87\n",
      "Mathew   | 18 | 6.2 | 65\n",
      "Tom      | 17 | 5.7 | 50\n",
      "Kayode   | 19 | 5.5 | 49\n"
     ]
    }
   ],
   "source": [
    "#python programme to display the students personal details\n",
    "\n",
    "print(\"Smart students international personal details\")\n",
    "\n",
    "\n",
    "Name =['Samantha ',\n",
    "       'Jada     ',\n",
    "       'Jane     ',\n",
    "       'Claire   ',\n",
    "       'Elizabeth',\n",
    "       'Mary     ',\n",
    "       'Susan    ',\n",
    "       'Waje     ',\n",
    "       'Taibat   ',\n",
    "       'lilian   ']\n",
    "\n",
    "Age =  ['17','16','17','18','16','18','17','19','20','17']\n",
    "\n",
    "Height =  ['5.5','6.0','5.4','5.9','5.6','5.5','6.1','6.2','5.7','5.5']\n",
    "\n",
    "Score =  ['80','83','70','60','76','66','87','95','50','49']\n",
    "\n",
    "print(\"The girls details: \")\n",
    "\n",
    "for i in range(len(Name)):\n",
    "    print(Name[i] ,\"|\", Age[i] ,\"|\", Height[i] ,\"|\", Score[i])\n",
    "    \n",
    "\n",
    "Name =['Charles ',\n",
    "       'Jude    ',\n",
    "       'James   ',\n",
    "       'Kelvin  ',\n",
    "       'Biodun  ',\n",
    "       'Wale    ',\n",
    "       'Kunle   ',\n",
    "       'Mathew  ',\n",
    "       'Tom     ',\n",
    "       'Kayode  ']\n",
    "\n",
    "Age =  ['19','16','17','18','20','18','19','18','17','19']\n",
    "\n",
    "Height =  ['5.7','5.9','5.8','5.9','6.1','5.5','6.1','6.2','5.7','5.5']\n",
    "\n",
    "Score =  ['74','87','70','68','76','66','87','65','50','49']\n",
    "\n",
    "print(\"The Boys details: \")\n",
    "\n",
    "for i in range(len(Name)):\n",
    "    print(Name[i] ,\"|\", Age[i] ,\"|\", Height[i] ,\"|\", Score[i])\n",
    "\n"
   ]
  },
  {
   "cell_type": "code",
   "execution_count": 11,
   "id": "b4a91b51",
   "metadata": {},
   "outputs": [
    {
     "name": "stdout",
     "output_type": "stream",
     "text": [
      "Welcome to FINTECHS\n",
      "Enter your years of experienence: 25\n",
      "Enter your age: 55\n",
      "Your annual tax revenue is 4480000 naira\n"
     ]
    }
   ],
   "source": [
    "#python programme to allocate ATR to staff memebers of a company\n",
    "\n",
    "print(\"Welcome to FINTECHS\")\n",
    "\n",
    "\n",
    "#for i in range(2500):\n",
    "E = float(input(\"Enter your years of experienence: \"))\n",
    "A = float(input(\"Enter your age: \"))\n",
    "\n",
    "if E > 25 and A>= 55 :\n",
    "    print(\"Your annual tax revenue is 5600000 naira\")\n",
    "elif E > 20 and A >= 45 :\n",
    "    print(\"Your annual tax revenue is 4480000 naira\")\n",
    "elif E > 10 and A >= 35 :\n",
    "    print(\"Your annual tax revenue is 1500000 naira\")\n",
    "elif E < 10 and A < 35 :\n",
    "    print(\"Your annual tax revenue is 550000 naira\")\n",
    "else:\n",
    "    print(\"you did not meet the requirements\")"
   ]
  },
  {
   "cell_type": "code",
   "execution_count": null,
   "id": "3f0554b5",
   "metadata": {},
   "outputs": [],
   "source": []
  },
  {
   "cell_type": "code",
   "execution_count": null,
   "id": "44275290",
   "metadata": {},
   "outputs": [],
   "source": []
  },
  {
   "cell_type": "code",
   "execution_count": null,
   "id": "ff4a230e",
   "metadata": {},
   "outputs": [],
   "source": []
  }
 ],
 "metadata": {
  "kernelspec": {
   "display_name": "Python 3 (ipykernel)",
   "language": "python",
   "name": "python3"
  },
  "language_info": {
   "codemirror_mode": {
    "name": "ipython",
    "version": 3
   },
   "file_extension": ".py",
   "mimetype": "text/x-python",
   "name": "python",
   "nbconvert_exporter": "python",
   "pygments_lexer": "ipython3",
   "version": "3.10.9"
  }
 },
 "nbformat": 4,
 "nbformat_minor": 5
}
