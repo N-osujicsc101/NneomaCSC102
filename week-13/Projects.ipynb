{
 "cells": [
  {
   "cell_type": "code",
   "execution_count": 12,
   "id": "699ccf45",
   "metadata": {},
   "outputs": [
    {
     "data": {
      "text/html": [
       "<div>\n",
       "<style scoped>\n",
       "    .dataframe tbody tr th:only-of-type {\n",
       "        vertical-align: middle;\n",
       "    }\n",
       "\n",
       "    .dataframe tbody tr th {\n",
       "        vertical-align: top;\n",
       "    }\n",
       "\n",
       "    .dataframe thead th {\n",
       "        text-align: right;\n",
       "    }\n",
       "</style>\n",
       "<table border=\"1\" class=\"dataframe\">\n",
       "  <thead>\n",
       "    <tr style=\"text-align: right;\">\n",
       "      <th></th>\n",
       "      <th>Student name</th>\n",
       "      <th>Matric.Number</th>\n",
       "      <th>department</th>\n",
       "      <th>level</th>\n",
       "    </tr>\n",
       "  </thead>\n",
       "  <tbody>\n",
       "    <tr>\n",
       "      <th>0</th>\n",
       "      <td>Oluchi Mordi</td>\n",
       "      <td>ACC10211111</td>\n",
       "      <td>Accounting</td>\n",
       "      <td>300</td>\n",
       "    </tr>\n",
       "    <tr>\n",
       "      <th>1</th>\n",
       "      <td>Adams Aliyu</td>\n",
       "      <td>ECO10110101</td>\n",
       "      <td>Economics</td>\n",
       "      <td>100</td>\n",
       "    </tr>\n",
       "    <tr>\n",
       "      <th>2</th>\n",
       "      <td>Shania Bolade</td>\n",
       "      <td>CSC10328828</td>\n",
       "      <td>Computer</td>\n",
       "      <td>200</td>\n",
       "    </tr>\n",
       "    <tr>\n",
       "      <th>3</th>\n",
       "      <td>Adekunle Gold</td>\n",
       "      <td>EEE11020202</td>\n",
       "      <td>Electrical</td>\n",
       "      <td>200</td>\n",
       "    </tr>\n",
       "    <tr>\n",
       "      <th>4</th>\n",
       "      <td>Bianca Edemoh</td>\n",
       "      <td>MEE10202001</td>\n",
       "      <td>Mechanical</td>\n",
       "      <td>100</td>\n",
       "    </tr>\n",
       "  </tbody>\n",
       "</table>\n",
       "</div>"
      ],
      "text/plain": [
       "    Student name Matric.Number  department  level\n",
       "0   Oluchi Mordi   ACC10211111  Accounting    300\n",
       "1    Adams Aliyu   ECO10110101   Economics    100\n",
       "2  Shania Bolade   CSC10328828    Computer    200\n",
       "3  Adekunle Gold   EEE11020202  Electrical    200\n",
       "4  Bianca Edemoh   MEE10202001  Mechanical    100"
      ]
     },
     "execution_count": 12,
     "metadata": {},
     "output_type": "execute_result"
    }
   ],
   "source": [
    "import pandas as pd\n",
    "\n",
    "paudata = {'Student name':[\"Oluchi Mordi\", \"Adams Aliyu\", \"Shania Bolade\", \"Adekunle Gold\", \"Bianca Edemoh\"],\n",
    "        'Matric.Number': [\"ACC10211111\", \"ECO10110101\", \"CSC10328828\", \"EEE11020202\",\"MEE10202001\"],\n",
    "        'department':[\"Accounting\", \"Economics\", \"Computer\", \"Electrical\",\"Mechanical\"],\n",
    "          'level':[300, 100, 200, 200, 100]}\n",
    "  \n",
    " \n",
    "df = pd.DataFrame(paudata)\n",
    "\n",
    "\n",
    "df.to_csv('paudata.csv')\n",
    "\n",
    "df"
   ]
  },
  {
   "cell_type": "code",
   "execution_count": 11,
   "id": "296380a7",
   "metadata": {},
   "outputs": [],
   "source": [
    "import pandas as pd\n",
    "\n",
    "# Define the company data\n",
    "company_data = {\n",
    "    'Company': ['Enron', 'Anderson', 'GK Jones', 'Mica', 'Dune'],\n",
    "    'Founded': [1987, 1938, 2001, 1996, 2008],\n",
    "    'Assets': [1000000, 1500000, 3000000, 250000, 800000],\n",
    "    'Liabilities': [200000, 500000, 1500000, 50000, 300000]\n",
    "}\n",
    "\n",
    "# Create a DataFrame from the company data\n",
    "df = pd.DataFrame(company_data)\n",
    "\n",
    "# Calculate the leverage percentage\n",
    "df['Leverage'] = df['Liabilities'] / df['Assets'] * 100\n",
    "\n",
    "# Save the DataFrame to an Excel file\n",
    "df.to_excel('company_data.xlsx', index=False)\n"
   ]
  },
  {
   "cell_type": "code",
   "execution_count": null,
   "id": "70bb9c06",
   "metadata": {},
   "outputs": [],
   "source": []
  }
 ],
 "metadata": {
  "kernelspec": {
   "display_name": "Python 3 (ipykernel)",
   "language": "python",
   "name": "python3"
  },
  "language_info": {
   "codemirror_mode": {
    "name": "ipython",
    "version": 3
   },
   "file_extension": ".py",
   "mimetype": "text/x-python",
   "name": "python",
   "nbconvert_exporter": "python",
   "pygments_lexer": "ipython3",
   "version": "3.10.9"
  }
 },
 "nbformat": 4,
 "nbformat_minor": 5
}
